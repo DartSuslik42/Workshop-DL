{
 "cells": [
  {
   "cell_type": "markdown",
   "metadata": {
    "id": "E-vqHHuE_U5W"
   },
   "source": [
    "# HW 2. Свёрточная нейронная сеть\n",
    "\n",
    "нужно взять train часть от [tiny imagenet](http://cs231n.stanford.edu/tiny-imagenet-200.zip) dataset и обучить ЛЮБУЮ нейросетку\n",
    "\n",
    "💀 ограничения:  \n",
    "\\- нельзя использовать предобученные модели  \n",
    "\\- максимальное разрешение картинки на входе 128х128  \n",
    " \n",
    "разбалловка:  \n",
    "+💎 успешно написан класс dataset для tiny_imagenet. Есть разбиение на две части (одна для обучения, вторая для валидации)  \n",
    "+💎 использовать аугментации из библиотеки albumentations для увеличения размеров dataset-a  \n",
    "+💎 успешно реализован алгоритм обучения нейросети  \n",
    "+💎 accuracy in [45%, 55%)  \n",
    "+💎 accuracy >= 55%  \n",
    "Total: 5 / 5 💎  \n",
    "\n",
    "Оценка accuracy идёт по обученной модели, поэтому в git нужно сохранить веса модели.\n"
   ]
  },
  {
   "cell_type": "code",
   "execution_count": null,
   "metadata": {
    "executionInfo": {
     "elapsed": 3384,
     "status": "ok",
     "timestamp": 1754326166066,
     "user": {
      "displayName": "Egor Konyagin",
      "userId": "14016957259147470680"
     },
     "user_tz": -120
    },
    "id": "3PhLKG01mF7y"
   },
   "outputs": [
    {
     "name": "stderr",
     "output_type": "stream",
     "text": [
      "Matplotlib is building the font cache; this may take a moment.\n"
     ]
    }
   ],
   "source": [
    "import torch\n",
    "import torch.nn as nn\n",
    "from torchvision import models"
   ]
  },
  {
   "cell_type": "markdown",
   "metadata": {
    "id": "A6BdW91v_cNa"
   },
   "source": [
    "## Загрузка данных\n",
    "\n",
    "Для того чтобы загрузить данные в нейросеть или более простые алгоритмы ML, их необходимо должным образом открыть и преобразовать в вектор с числами. Для этого воспользуемся функцией ```read_files()```.\n",
    "\n",
    "Этот парсер делает следующие вещи:\n",
    " - открывает файл картинки с диска (с помощью библиотеки opencv),\n",
    " - проверяет, что картинка действительно открылась и сейчас является матрицей (```np.array```),\n",
    " - преобразует матрицу в вектор (путем записи всех столбцов друг под другом),\n",
    " - возвращает массив из векторов, в которых хранятся картинки, и лейбл, соответствующий каждой картинке."
   ]
  },
  {
   "cell_type": "code",
   "execution_count": null,
   "metadata": {
    "id": "ZhJZszn4FAhG"
   },
   "outputs": [],
   "source": [
    "def read_files(path: str, ans: int, target_dim: tuple = (256, 256)) -> dict[str, NDArray[np.float64]]:\n",
    "    files = os.listdir(path)\n",
    "    X = None\n",
    "    for i, name in enumerate(files):\n",
    "        img = cv2.imread(path + '/' + name, 0) # 0 means black-white picture\n",
    "        if img.shape != 0:\n",
    "            img = cv2.resize(img, target_dim, interpolation=cv2.INTER_LINEAR)\n",
    "            vect = img.reshape(1, 256 ** 2) / 255.\n",
    "\n",
    "            X = vect if (X is None) else np.vstack((X, vect))\n",
    "    y = np.ones((len(files))) * ans\n",
    "    return {\"data\": X, \"labels\": y}"
   ]
  },
  {
   "cell_type": "code",
   "execution_count": null,
   "metadata": {
    "collapsed": true,
    "executionInfo": {
     "elapsed": 22,
     "status": "ok",
     "timestamp": 1754326485304,
     "user": {
      "displayName": "Egor Konyagin",
      "userId": "14016957259147470680"
     },
     "user_tz": -120
    },
    "id": "eXDrzYr-AY9a",
    "jupyter": {
     "outputs_hidden": true
    },
    "scrolled": true
   },
   "outputs": [
    {
     "data": {
      "text/plain": [
       "\u001b[31mSignature:\u001b[39m       np.vstack(tup, *, dtype=\u001b[38;5;28;01mNone\u001b[39;00m, casting=\u001b[33m'same_kind'\u001b[39m)\n",
       "\u001b[31mCall signature:\u001b[39m  np.vstack(*args, **kwargs)\n",
       "\u001b[31mType:\u001b[39m            _ArrayFunctionDispatcher\n",
       "\u001b[31mString form:\u001b[39m     <function vstack at 0x00000233EC2EBEC0>\n",
       "\u001b[31mFile:\u001b[39m            c:\\users\\marin\\appdata\\local\\programs\\python\\python313\\lib\\site-packages\\numpy\\_core\\shape_base.py\n",
       "\u001b[31mDocstring:\u001b[39m      \n",
       "Stack arrays in sequence vertically (row wise).\n",
       "\n",
       "This is equivalent to concatenation along the first axis after 1-D arrays\n",
       "of shape `(N,)` have been reshaped to `(1,N)`. Rebuilds arrays divided by\n",
       "`vsplit`.\n",
       "\n",
       "This function makes most sense for arrays with up to 3 dimensions. For\n",
       "instance, for pixel-data with a height (first axis), width (second axis),\n",
       "and r/g/b channels (third axis). The functions `concatenate`, `stack` and\n",
       "`block` provide more general stacking and concatenation operations.\n",
       "\n",
       "Parameters\n",
       "----------\n",
       "tup : sequence of ndarrays\n",
       "    The arrays must have the same shape along all but the first axis.\n",
       "    1-D arrays must have the same length. In the case of a single\n",
       "    array_like input, it will be treated as a sequence of arrays; i.e.,\n",
       "    each element along the zeroth axis is treated as a separate array.\n",
       "\n",
       "dtype : str or dtype\n",
       "    If provided, the destination array will have this dtype. Cannot be\n",
       "    provided together with `out`.\n",
       "\n",
       "    .. versionadded:: 1.24\n",
       "\n",
       "casting : {'no', 'equiv', 'safe', 'same_kind', 'unsafe'}, optional\n",
       "    Controls what kind of data casting may occur. Defaults to 'same_kind'.\n",
       "\n",
       "    .. versionadded:: 1.24\n",
       "\n",
       "Returns\n",
       "-------\n",
       "stacked : ndarray\n",
       "    The array formed by stacking the given arrays, will be at least 2-D.\n",
       "\n",
       "See Also\n",
       "--------\n",
       "concatenate : Join a sequence of arrays along an existing axis.\n",
       "stack : Join a sequence of arrays along a new axis.\n",
       "block : Assemble an nd-array from nested lists of blocks.\n",
       "hstack : Stack arrays in sequence horizontally (column wise).\n",
       "dstack : Stack arrays in sequence depth wise (along third axis).\n",
       "column_stack : Stack 1-D arrays as columns into a 2-D array.\n",
       "vsplit : Split an array into multiple sub-arrays vertically (row-wise).\n",
       "unstack : Split an array into a tuple of sub-arrays along an axis.\n",
       "\n",
       "Examples\n",
       "--------\n",
       ">>> import numpy as np\n",
       ">>> a = np.array([1, 2, 3])\n",
       ">>> b = np.array([4, 5, 6])\n",
       ">>> np.vstack((a,b))\n",
       "array([[1, 2, 3],\n",
       "       [4, 5, 6]])\n",
       "\n",
       ">>> a = np.array([[1], [2], [3]])\n",
       ">>> b = np.array([[4], [5], [6]])\n",
       ">>> np.vstack((a,b))\n",
       "array([[1],\n",
       "       [2],\n",
       "       [3],\n",
       "       [4],\n",
       "       [5],\n",
       "       [6]])\n",
       "\u001b[31mClass docstring:\u001b[39m\n",
       "Class to wrap functions with checks for __array_function__ overrides.\n",
       "\n",
       "All arguments are required, and can only be passed by position.\n",
       "\n",
       "Parameters\n",
       "----------\n",
       "dispatcher : function or None\n",
       "    The dispatcher function that returns a single sequence-like object\n",
       "    of all arguments relevant.  It must have the same signature (except\n",
       "    the default values) as the actual implementation.\n",
       "    If ``None``, this is a ``like=`` dispatcher and the\n",
       "    ``_ArrayFunctionDispatcher`` must be called with ``like`` as the\n",
       "    first (additional and positional) argument.\n",
       "implementation : function\n",
       "    Function that implements the operation on NumPy arrays without\n",
       "    overrides.  Arguments passed calling the ``_ArrayFunctionDispatcher``\n",
       "    will be forwarded to this (and the ``dispatcher``) as if using\n",
       "    ``*args, **kwargs``.\n",
       "\n",
       "Attributes\n",
       "----------\n",
       "_implementation : function\n",
       "    The original implementation passed in."
      ]
     },
     "metadata": {},
     "output_type": "display_data"
    }
   ],
   "source": [
    "?np.vstack"
   ]
  },
  {
   "cell_type": "markdown",
   "metadata": {
    "id": "n0Crs3tfd9OV"
   },
   "source": [
    "Логика программы следующая:\n",
    " - есть класс ```LogisticRegression```. Он содержит веса модели и нужен для того, чтобы генерировать предсказания. Также, этот класс снабжен методом backward() для возможности дифференцирования функции потерь по весам этого класса.\n",
    " - есть класс ```Loss```. Он определяет функцию потерь, которую мы хотим использовать. Также, этот класс осуществляет подсчет градиентов функции потерь по всем весам модели.\n",
    " - есть класс ```Optimizer```. Он отвечает за то, как будут обновляться веса после подсчета градиентов (после работы класса ```Loss```). Сегодня мы рассматриваем простой градиентный спуск, но более сложные модели используют более усовершенствованные алгоритмы оптимизации.\n",
    "\n",
    "То есть:\n",
    " 1. Вызывается метод ```forward()``` нашей модели (логистической регрессии). После этого у нас выводятся текущие предсказания модели.\n",
    " 2. Вызывается метод ```loss()```, который сравнивает предсказания модели с истинными ответами. После этого подсчитываются градиенты функции потерь по всем весам модели.\n",
    " 3. Подсчитанные градиенты вычитаются из весов (происходит шаг градиентного спуска) путем вызова ```optimizer.step()```"
   ]
  },
  {
   "cell_type": "markdown",
   "metadata": {
    "id": "95y9pVGsNc0u"
   },
   "source": [
    "## Логистическая регрессия. Backward propagation\n",
    "Back propagation реализуется с помощью уравнений, написанных ниже. Для подсчитанной функции потерь:\n",
    "$$\n",
    "\\mathcal{L} = -\\frac{1}{m} \\sum_{i=1}^{m} y_i \\log(\\hat{y}_i) + (1 - y_i) \\log(1 - \\hat{y}_i)\n",
    "$$\n",
    "где $\\hat{y}_i = \\sigma(w^T x_i + b)$, где $\\sigma$ - сигмоидная функция.\n",
    "\n",
    "### calculations\n",
    "Формуля для $\\mathcal{L(y,\\hat{y}) = L(y, \\{w_i\\} , \\{x_i\\}, b)}$ указана для набора исходов. Найдём градиент функции потерь для одного исхода.\n",
    "$$\n",
    "\\mathcal{L(\\hat{y}) = L(\\{w_i\\} , b)} = - y \\log(\\hat{y}) + (1 - y) \\log(1 - \\hat{y})\n",
    "$$\n",
    "$$\n",
    "-\\frac{\\mathcal{d}}{\\mathcal{d}\\hat{y}} \\mathcal{L} = \\frac{y}{\\hat{y}} - \\frac{1-y}{1-\\hat{y}} \n",
    "$$\n",
    "$$\n",
    "\\frac{\\mathcal{d}}{\\mathcal{d}z} \\hat{y} = \\frac{\\mathcal{d}}{\\mathcal{d}z} \\sigma(z) = (1 + e^{-z})^{-2} * e^{-z} = \\sigma^2(\\frac{1}{\\sigma} - 1) = \\sigma(1-\\sigma)\n",
    "$$\n",
    "$$\n",
    "z = w^T x + b; \\frac{\\mathcal{d}}{\\mathcal{d}w_i} z = x_i; \\frac{\\mathcal{d}}{\\mathcal{d}b} z = 1.\n",
    "$$\n",
    "Градиент функции потерь для одного исходы ищится по следующим формулам:\n",
    "$$\n",
    "\\frac{\\mathcal{d}}{\\mathcal{d}w_i} \\mathcal{L} = \\frac{dz}{dw_i}\\frac{d\\hat{y}}{dz}\\frac{d\\mathcal{L}}{d\\hat{y}}= -\\frac{dz}{dw_i}(y-\\hat{y})= x_i(\\hat{y}-y)\n",
    "$$\n",
    "$$\n",
    "\\frac{\\mathcal{d}}{\\mathcal{d}b} \\mathcal{L} = \\frac{dz}{db}\\frac{d\\hat{y}}{dz}\\frac{d\\mathcal{L}}{d\\hat{y}}= -\\frac{dz}{db}(y-\\hat{y}) = (\\hat{y}-y)\n",
    "$$\n",
    "Обобщим полученный результат для m исходов:\n",
    "$$\n",
    "\\frac{\\mathcal{d}}{\\mathcal{d}\\vec{w}} \\mathcal{L} = \\frac{1}{m} \\sum_{k=1}^{m} \\vec{x_k}(\\hat{y}_k-y_k)\n",
    "$$\n",
    "$$\n",
    "\\frac{\\mathcal{d}}{\\mathcal{d}b} \\mathcal{L} = \\frac{1}{m} \\sum_{k=1}^{m} (\\hat{y}_k-y_k)\n",
    "$$"
   ]
  },
  {
   "cell_type": "code",
   "execution_count": null,
   "metadata": {
    "id": "sAgudbjuBzjo"
   },
   "outputs": [],
   "source": [
    "class LogisticRegression:\n",
    "    def __init__(self, n_features):\n",
    "        \"\"\"Initialize model parameters with zeros.\"\"\"\n",
    "        #self.w = np.random.rand(n_features)\n",
    "        #self.b = 0.9\n",
    "        self.w = np.zeros(n_features)\n",
    "        self.b = 0\n",
    "\n",
    "\n",
    "    def forward(self, X: NDArray[np.float64]):\n",
    "        \"\"\"Compute model predictions a.k.a. forward pass.\n",
    "        Args:\n",
    "            X: input data.\n",
    "        Returns:\n",
    "            probability predictions.\n",
    "        \"\"\"\n",
    "        z = np.dot(X, self.w) + self.b\n",
    "        return self.sigmoid(z)\n",
    "\n",
    "    def sigmoid(self, z):\n",
    "        z = np.clip(z, -500, 500)\n",
    "        return 1 / (1 + np.exp(-z))\n",
    "\n",
    "class Loss:\n",
    "    def __init__(self):\n",
    "        pass\n",
    "\n",
    "    def __call__(self, y_pred, y_true):\n",
    "        eps= 1e-15  # Малое значение для предотвращения ошибок логарифма\n",
    "        y_pred = np.clip(y_pred, eps, 1 - eps)  # Ограничение значений\n",
    "        loss = - (y_true * np.log(y_pred) + (1 - y_true) * np.log(1 - y_pred))\n",
    "        return np.mean(loss)\n",
    "\n",
    "    def backward(self, y_pred, y, X):\n",
    "        m = len(y)\n",
    "        dy = y_pred - y\n",
    "        dw = X.T @ dy / m\n",
    "        db = np.mean(dy)\n",
    "        return dw, db\n",
    "\n",
    "class Optimizer:\n",
    "    def __init__(self, learning_rate):\n",
    "        self.learning_rate = learning_rate\n",
    "\n",
    "    def step(self, model, dw, db):\n",
    "        model.w -= self.learning_rate * dw\n",
    "        model.b -= self.learning_rate * db"
   ]
  },
  {
   "cell_type": "markdown",
   "metadata": {},
   "source": [
    "## Задание"
   ]
  },
  {
   "cell_type": "markdown",
   "metadata": {},
   "source": [
    "1. Загрузить датасет, разбить его на два датасета: первый для обучения, второй - для проверки качества (см. функцию [`train_test_split`](https://scikit-learn.org/stable/modules/generated/sklearn.model_selection.train_test_split.html)) **(1 балл)**"
   ]
  },
  {
   "cell_type": "code",
   "execution_count": null,
   "metadata": {
    "id": "O5oXxpswDAk_"
   },
   "outputs": [],
   "source": [
    "dataset_path = \"dataset/\"\n",
    "dataset_path_box = dataset_path + \"box/\"\n",
    "dataset_path_nobox = dataset_path + \"no_box/\"\n",
    "\n",
    "dataset_box = read_files(dataset_path_box, 1)\n",
    "dataset_nobox = read_files(dataset_path_nobox, 0)\n",
    "dataset = {\n",
    "    \"data\" : np.concatenate((dataset_box[\"data\"], dataset_nobox[\"data\"])),\n",
    "    \"labels\" :  np.concatenate((dataset_box[\"labels\"], dataset_nobox[\"labels\"]))\n",
    "}\n",
    "dataset_train_data, dataset_test_data, dataset_train_labels, dataset_test_labels = train_test_split(dataset[\"data\"], dataset[\"labels\"], random_state=42)"
   ]
  },
  {
   "cell_type": "markdown",
   "metadata": {
    "editable": true,
    "slideshow": {
     "slide_type": ""
    },
    "tags": []
   },
   "source": [
    "2. Посчитать производные функции потерь по $w$ и по $b$ **(3 балла)**  \n",
    "**[[Посчитано тут](#calculations)]**\n"
   ]
  },
  {
   "cell_type": "markdown",
   "metadata": {},
   "source": [
    "3. Реализовать цикл обучения, обновляя параметры логистической регрессии. Необходим график зависимости от номера итерации **(5 баллов)**:\n",
    "$$w = w - \\alpha \\cdot \\frac{\\partial L}{\\partial w}$$\n",
    "<!-- <br> -->\n",
    "$$b = b - \\alpha \\cdot \\frac{\\partial L}{\\partial b}$$\n",
    "Обратите внимание на величину $\\alpha$. Ее надо подобрать, иначе алгоритм не будет обучаться.\n"
   ]
  },
  {
   "cell_type": "code",
   "execution_count": null,
   "metadata": {},
   "outputs": [
    {
     "data": {
      "image/png": "[encoded data removed]",
      "text/plain": [
       "<Figure size 1000x400 with 2 Axes>"
      ]
     },
     "metadata": {},
     "output_type": "display_data"
    }
   ],
   "source": [
    "model = LogisticRegression(256**2)\n",
    "loss = Loss()\n",
    "optimizer = Optimizer(0.001)\n",
    "\n",
    "MAX_ITER = 100\n",
    "loss_array = np.zeros(MAX_ITER)\n",
    "accuracy_train = np.zeros(MAX_ITER)\n",
    "accuracy_test = np.zeros(MAX_ITER)\n",
    "\n",
    "for i in range(MAX_ITER):\n",
    "    model_prediction = model.forward(dataset_train_data)\n",
    "    \n",
    "    loss_array[i] = loss(model_prediction, dataset_train_labels)\n",
    "    accuracy_train[i] = accuracy_score(dataset_train_labels, np.where(model.forward(dataset_train_data)> 0.5, 1, 0))\n",
    "    accuracy_test[i] = accuracy_score(dataset_test_labels, np.where(model.forward(dataset_test_data)> 0.5, 1, 0))\n",
    "    \n",
    "    dw, db = loss.backward(model_prediction, dataset_train_labels, dataset_train_data)\n",
    "    optimizer.step(model, dw, db)\n",
    "\n",
    "plt.figure(figsize=(10, 4))\n",
    "\n",
    "plt.subplot(1, 2, 1)  \n",
    "plt.plot(np.linspace(0, MAX_ITER, MAX_ITER), loss_array, color=\"black\")\n",
    "plt.ylim(0,None)\n",
    "plt.title(\"Функция потерь от номера итерации\")\n",
    "plt.grid(True)\n",
    "\n",
    "plt.subplot(1, 2, 2)\n",
    "plt.ylim(0,1.1)\n",
    "plt.grid(True)\n",
    "plt.plot(np.linspace(0, MAX_ITER, MAX_ITER), accuracy_train, label=\"train\", color=\"black\")\n",
    "plt.plot(np.linspace(0, MAX_ITER, MAX_ITER), accuracy_test, label=\"test\", linestyle=\"--\", color=\"lime\")\n",
    "plt.title(\"Точность модели от номера итерации\")\n",
    "plt.legend()\n",
    "\n",
    "plt.tight_layout()\n",
    "plt.show()\n"
   ]
  },
  {
   "cell_type": "markdown",
   "metadata": {},
   "source": [
    "4. Посчитать качество модели по метрике [accuracy](https://scikit-learn.org/stable/modules/generated/sklearn.metrics.accuracy_score.html) **(1 балл)**  \n",
    "Впринципе сделано выше. Перенёс сюда часть кода."
   ]
  },
  {
   "cell_type": "code",
   "execution_count": null,
   "metadata": {},
   "outputs": [
    {
     "name": "stdout",
     "output_type": "stream",
     "text": [
      "1.0\n"
     ]
    }
   ],
   "source": [
    "model_prediction = np.where(model.forward(dataset_test_data)> 0.5, 1, 0)\n",
    "print(accuracy_score(dataset_test_labels, model_prediction))\n",
    "# (0 .. 1), где 1 - Good"
   ]
  },
  {
   "cell_type": "markdown",
   "metadata": {},
   "source": [
    "5. (бонус - оценивается только при успешном выполнении предыдущих пунктов) осуществить перебор по $\\alpha$ и найти его оптимальное значение (обеспечивающее максимальную метрику accuracy при достаточно небольшом количестве итераций обучения) **(2 балла)**\n",
    "  \n",
    "Нужно выбрать границы поиска Alpha: \\[Alpha_left; Alpha_right] и число выборок Alpha_num из отрезка поиска.  \n",
    "Алгоритм построит график зависимости числа итераций от Alpha из отрезка.  \n",
    "Текущая можель слишком проста, поэтому значения больших Alpha приводит к большим значением весов. Т.е. начиная с какого-то Alpha дальнейшее его увеличение не будет влиять на число итераций, а только на абсолютные значения весов. "
   ]
  },
  {
   "cell_type": "code",
   "execution_count": null,
   "metadata": {},
   "outputs": [
    {
     "data": {
      "image/png": "[encoded data removed]",
      "text/plain": [
       "<Figure size 800x400 with 1 Axes>"
      ]
     },
     "metadata": {},
     "output_type": "display_data"
    }
   ],
   "source": [
    "LOSS_MIN = 0.05\n",
    "ALPHA_NUM = 10\n",
    "ALPHA_LEFT = 0.001\n",
    "ALPHA_RIGHT = 0.01\n",
    "\n",
    "alpha_array = np.linspace(ALPHA_LEFT, ALPHA_RIGHT, ALPHA_NUM)\n",
    "alpha_iter_num = np.zeros(len(alpha_array))\n",
    "\n",
    "MAX_ITER = 100\n",
    "\n",
    "for k in range(ALPHA_NUM):\n",
    "    model = LogisticRegression(256**2)\n",
    "    loss = Loss()\n",
    "    optimizer = Optimizer(alpha_array[k])\n",
    "\n",
    "    for i in range(MAX_ITER):\n",
    "        # forward\n",
    "        model_prediction = model.forward(dataset_train_data)\n",
    "        \n",
    "        # Начинать проверку на тестовом датасете при малом значении функции потерь\n",
    "        if(loss(model_prediction, dataset_train_labels) < LOSS_MIN):\n",
    "            alpha_iter_num[k] = i\n",
    "            # Выход из цикла обучения по достижению максимальной точности модели на тестовом датасете\n",
    "            if( 1 == accuracy_score(dataset_test_labels, np.where(model.forward(dataset_test_data)> 0.5, 1, 0))):\n",
    "                break\n",
    "                \n",
    "        # backward\n",
    "        dw, db = loss.backward(model_prediction, dataset_train_labels, dataset_train_data)\n",
    "        optimizer.step(model, dw, db)\n",
    "\n",
    "    # Если за время выполнения функция потерь не уменьшилась достаточно\n",
    "    if(alpha_iter_num[k] == 0): \n",
    "        alpha_iter_num[k] = MAX_ITER\n",
    "\n",
    "plt.figure(figsize=(8, 4))\n",
    "plt.scatter(alpha_array, alpha_iter_num, color=\"black\")\n",
    "plt.vlines(alpha_array, ymin=0, ymax=alpha_iter_num, linestyle='--', color=\"black\")\n",
    "plt.ylim(0,None)\n",
    "plt.title(\"Число итераций от Alpha\")\n",
    "plt.grid(True)\n",
    "plt.show()"
   ]
  }
 ],
 "metadata": {
  "colab": {
   "provenance": []
  },
  "kernelspec": {
   "display_name": "Python 3 (ipykernel)",
   "language": "python",
   "name": "python3"
  },
  "language_info": {
   "codemirror_mode": {
    "name": "ipython",
    "version": 3
   },
   "file_extension": ".py",
   "mimetype": "text/x-python",
   "name": "python",
   "nbconvert_exporter": "python",
   "pygments_lexer": "ipython3",
   "version": "3.13.2"
  }
 },
 "nbformat": 4,
 "nbformat_minor": 4
}
